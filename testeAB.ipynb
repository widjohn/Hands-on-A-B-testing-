{
 "cells": [
  {
   "cell_type": "markdown",
   "id": "14a87752",
   "metadata": {},
   "source": [
    "<h2>Teste A/B</h2>"
   ]
  },
  {
   "cell_type": "markdown",
   "id": "f3097278",
   "metadata": {},
   "source": [
    "<h2>Problema de Negócio:</h2>\n",
    "A Urban Wear, uma grande loja virtual (eCommerce) localizada na Flórida, está avaliando uma mudança no design do seu site. O gerente da equipe de marketing propôs alterar a cor do botão \"Adicionar ao carrinho\" de laranja para verde, com o objetivo de aumentar a taxa de conversão dos visitantes em compradores.\n",
    "\n",
    "A hipótese definida para este teste é:\n",
    "\n",
    "<h3>\"Mudar a cor do botão 'Adicionar ao carrinho' de laranja para verde aumentará a taxa de conversão.\"</h3>\n",
    "\n",
    "Como cientista de dados de produto na Urban Wear, seu papel é planejar, executar e analisar um experimento A/B que teste o impacto dessa mudança.\n",
    "\n",
    "<ul><li>A versão de controle (A) mantém o botão \"Adicionar ao carrinho\" na cor laranja, que é a versão atual.</li>\n",
    "\n",
    "<li>A versão de teste (B) apresenta o botão na cor verde, como proposto pela equipe de marketing.</ul></li>\n",
    "\n",
    "Sua missão é ajudar a equipe de produto da Urban Wear a decidir qual versão utilizar com base nos resultados do teste A/B.\n"
   ]
  },
  {
   "cell_type": "markdown",
   "id": "dbc8ab62",
   "metadata": {},
   "source": [
    "![](Shoes.PNG)"
   ]
  },
  {
   "cell_type": "markdown",
   "id": "e15003a2",
   "metadata": {},
   "source": [
    "<h2>processo e planejamento do teste</h2>\n",
    "Após as reuniões realizadas com a equipe de produto e ciência de dados para definição do processo e planejamento do teste A/B, foram estabelecidos os principais parâmetros do experimento. Considerando uma taxa de conversão atual de 10%, estimou-se a necessidade de uma amostra total de 20.000 visitantes para detectar um aumento mínimo de 5% relativo na conversão com 95% de confiança e 80% de poder estatístico. A unidade de randomização adotada foi o visitante individual: o grupo de controle (A) receberá 10.000 visitantes, enquanto o grupo de teste (B) também contará com 10.000 visitantes. A duração prevista do experimento é de 10 dias, com distribuição balanceada dos usuários ao longo desse período."
   ]
  },
  {
   "cell_type": "markdown",
   "id": "966be3d9",
   "metadata": {},
   "source": [
    "<h2>Unidade de Randomização ou Unidade de Aleatorização</h2>\n",
    "A unidade de randomização é o nível em que os participantes ou observações são aleatoriamente atribuídos aos grupos de um experimento (ex: controle(A) e tratamento(B))."
   ]
  },
  {
   "cell_type": "markdown",
   "id": "767c804b",
   "metadata": {},
   "source": [
    "![](Randomization.PNG)"
   ]
  },
  {
   "cell_type": "code",
   "execution_count": 51,
   "id": "9570cbfa",
   "metadata": {},
   "outputs": [],
   "source": [
    "#Importando as bibliotecas\n",
    "import pandas as pd\n",
    "import numpy as np\n",
    "from matplotlib import pyplot as plt\n",
    "import seaborn as sns\n",
    "from scipy import stats\n",
    "from scipy.stats import norm, skew,chi2_contingency\n",
    "import statsmodels.api as sm\n",
    "import warnings\n",
    "warnings.filterwarnings('ignore')\n",
    "import scipy.stats as stats"
   ]
  },
  {
   "cell_type": "markdown",
   "id": "51ddb44c",
   "metadata": {},
   "source": [
    "<h2>Hipótese nula (H₀):</h2>\n",
    "<ul><li>A taxa de conversão é a mesma para os dois grupos(A-B).\n",
    "Ou seja, a mudança de cor não fez diferença significativa.</li></ul>\n",
    "<h2>Hipótese alternativa (H₁):</h2>\n",
    "<ul><li>A taxa de conversão é diferente entre os dois grupos(A-B).\n",
    "Ou seja, a cor do botão teve um efeito significativo.</li></ul>\n",
    "<h2>Poder ou Stat Power</h2>\n",
    "<ul><li>O poder do teste é a probabilidade de detectar um efeito real, ou seja, de rejeitar corretamente a hipótese nula (H₀) quando ela é falsa. </li></ul>\n",
    "\n",
    "<h2>A diferença é significativa?</h2>\n",
    "Para determinar se a diferença nas taxas de conversão entre a Variante A e a Variante B é significativa, é necessário realizar um teste estatístico, como o teste qui-quadrado (chi-square) ou o teste t, dependendo da distribuição dos dados. Isso envolve comparar as taxas de conversão e calcular o p-valor para verificar se a diferença observada é estatisticamente significativa.\n",
    "\n",
    "<h2>Etapas para Planejar e Analisar o Experimento:</h2>\n",
    "<ul><li>Problema de Negócio:</li>\n",
    "<li>Definir as Hipóteses:\n",
    "Seja claro, específico e compreenda bem o contexto do negócio.</li>\n",
    "<li>Tamanho de amostra</li>\n",
    "<li>Unidade de Randomização:\n",
    "Defina como os visitantes serão distribuídos entre as variantes (ex: por visitante, por sessão, etc.).</li>\n",
    "<li>Coletar os Dados</li>\n",
    "<li>Calcular as Taxas de Conversão</li>\n",
    "<li>Executar o Teste Estatístico</li>\n",
    "<li>Interpretar os Resultados:\n",
    "\n",
    "Se o p-valor for menor que o nível de significância definido (por exemplo, 0,05), a diferença é considerada estatisticamente significativa.</li></ul>\n"
   ]
  },
  {
   "cell_type": "markdown",
   "id": "b9b580f2",
   "metadata": {},
   "source": [
    "<h2>principais parâmetros</h2>"
   ]
  },
  {
   "cell_type": "markdown",
   "id": "dccadb7e",
   "metadata": {},
   "source": [
    "Nível de Confiança= 95%   # a certeza que temos de que os resultados refletem a realidade e não são fruto do acaso.\n",
    "Nível de Significância ou alfa=0.05\n",
    "Poder= 80%  # Probabilidade de detectar um efeito real (rejeitar H₀ quando ela é falsa).\n",
    "MDE = 10%"
   ]
  },
  {
   "cell_type": "markdown",
   "id": "fb90d8b1",
   "metadata": {},
   "source": [
    "<h2>Métrica Principal (Primary Metric) e Métricas Secundárias</h2>\n",
    "<ul><li>Taxa de Conversão (Conversion Rate)</li></ul>\n",
    "<ul><li>CTR (Click-Through Rate) do botão</li></ul>\n",
    "CTR= cliques / N impressoes "
   ]
  },
  {
   "cell_type": "code",
   "execution_count": 2,
   "id": "97044081",
   "metadata": {},
   "outputs": [
    {
     "data": {
      "text/html": [
       "<div>\n",
       "<style scoped>\n",
       "    .dataframe tbody tr th:only-of-type {\n",
       "        vertical-align: middle;\n",
       "    }\n",
       "\n",
       "    .dataframe tbody tr th {\n",
       "        vertical-align: top;\n",
       "    }\n",
       "\n",
       "    .dataframe thead th {\n",
       "        text-align: right;\n",
       "    }\n",
       "</style>\n",
       "<table border=\"1\" class=\"dataframe\">\n",
       "  <thead>\n",
       "    <tr style=\"text-align: right;\">\n",
       "      <th></th>\n",
       "      <th>User_ID</th>\n",
       "      <th>Variant</th>\n",
       "      <th>Clicks</th>\n",
       "      <th>Conversions</th>\n",
       "    </tr>\n",
       "  </thead>\n",
       "  <tbody>\n",
       "    <tr>\n",
       "      <th>0</th>\n",
       "      <td>2721</td>\n",
       "      <td>A</td>\n",
       "      <td>3</td>\n",
       "      <td>0</td>\n",
       "    </tr>\n",
       "    <tr>\n",
       "      <th>1</th>\n",
       "      <td>2241</td>\n",
       "      <td>A</td>\n",
       "      <td>2</td>\n",
       "      <td>0</td>\n",
       "    </tr>\n",
       "    <tr>\n",
       "      <th>2</th>\n",
       "      <td>9808</td>\n",
       "      <td>A</td>\n",
       "      <td>16</td>\n",
       "      <td>0</td>\n",
       "    </tr>\n",
       "    <tr>\n",
       "      <th>3</th>\n",
       "      <td>3804</td>\n",
       "      <td>A</td>\n",
       "      <td>3</td>\n",
       "      <td>0</td>\n",
       "    </tr>\n",
       "    <tr>\n",
       "      <th>4</th>\n",
       "      <td>4391</td>\n",
       "      <td>A</td>\n",
       "      <td>9</td>\n",
       "      <td>0</td>\n",
       "    </tr>\n",
       "    <tr>\n",
       "      <th>5</th>\n",
       "      <td>5882</td>\n",
       "      <td>A</td>\n",
       "      <td>11</td>\n",
       "      <td>0</td>\n",
       "    </tr>\n",
       "    <tr>\n",
       "      <th>6</th>\n",
       "      <td>5489</td>\n",
       "      <td>A</td>\n",
       "      <td>13</td>\n",
       "      <td>0</td>\n",
       "    </tr>\n",
       "    <tr>\n",
       "      <th>7</th>\n",
       "      <td>2334</td>\n",
       "      <td>A</td>\n",
       "      <td>12</td>\n",
       "      <td>0</td>\n",
       "    </tr>\n",
       "    <tr>\n",
       "      <th>8</th>\n",
       "      <td>8671</td>\n",
       "      <td>A</td>\n",
       "      <td>19</td>\n",
       "      <td>0</td>\n",
       "    </tr>\n",
       "    <tr>\n",
       "      <th>9</th>\n",
       "      <td>2440</td>\n",
       "      <td>A</td>\n",
       "      <td>10</td>\n",
       "      <td>0</td>\n",
       "    </tr>\n",
       "  </tbody>\n",
       "</table>\n",
       "</div>"
      ],
      "text/plain": [
       "   User_ID Variant  Clicks  Conversions\n",
       "0     2721       A       3            0\n",
       "1     2241       A       2            0\n",
       "2     9808       A      16            0\n",
       "3     3804       A       3            0\n",
       "4     4391       A       9            0\n",
       "5     5882       A      11            0\n",
       "6     5489       A      13            0\n",
       "7     2334       A      12            0\n",
       "8     8671       A      19            0\n",
       "9     2440       A      10            0"
      ]
     },
     "execution_count": 2,
     "metadata": {},
     "output_type": "execute_result"
    }
   ],
   "source": [
    "# Carregando a base de dado do teste\n",
    "df= pd.read_csv(\"ab_data test.csv\")\n",
    "df.head(10)"
   ]
  },
  {
   "cell_type": "code",
   "execution_count": 3,
   "id": "4a64be4a",
   "metadata": {},
   "outputs": [
    {
     "data": {
      "text/plain": [
       "array(['A', 'B'], dtype=object)"
      ]
     },
     "execution_count": 3,
     "metadata": {},
     "output_type": "execute_result"
    }
   ],
   "source": [
    "#Verificando o numero de variante\n",
    "df.Variant.unique()"
   ]
  },
  {
   "cell_type": "code",
   "execution_count": 11,
   "id": "19a597f1",
   "metadata": {},
   "outputs": [
    {
     "data": {
      "text/html": [
       "<style type=\"text/css\">\n",
       "#T_e8d45_row0_col0, #T_e8d45_row1_col0, #T_e8d45_row1_col1, #T_e8d45_row1_col2, #T_e8d45_row1_col3, #T_e8d45_row1_col4, #T_e8d45_row1_col5, #T_e8d45_row1_col6, #T_e8d45_row1_col7, #T_e8d45_row2_col0, #T_e8d45_row2_col1, #T_e8d45_row2_col2, #T_e8d45_row2_col3, #T_e8d45_row2_col4, #T_e8d45_row2_col5, #T_e8d45_row2_col6, #T_e8d45_row2_col7 {\n",
       "  background-color: #f7fbff;\n",
       "  color: #000000;\n",
       "}\n",
       "#T_e8d45_row0_col1, #T_e8d45_row0_col2, #T_e8d45_row0_col3, #T_e8d45_row0_col4, #T_e8d45_row0_col5, #T_e8d45_row0_col6, #T_e8d45_row0_col7 {\n",
       "  background-color: #08306b;\n",
       "  color: #f1f1f1;\n",
       "}\n",
       "</style>\n",
       "<table id=\"T_e8d45\">\n",
       "  <thead>\n",
       "    <tr>\n",
       "      <th class=\"blank level0\" >&nbsp;</th>\n",
       "      <th id=\"T_e8d45_level0_col0\" class=\"col_heading level0 col0\" >count</th>\n",
       "      <th id=\"T_e8d45_level0_col1\" class=\"col_heading level0 col1\" >mean</th>\n",
       "      <th id=\"T_e8d45_level0_col2\" class=\"col_heading level0 col2\" >std</th>\n",
       "      <th id=\"T_e8d45_level0_col3\" class=\"col_heading level0 col3\" >min</th>\n",
       "      <th id=\"T_e8d45_level0_col4\" class=\"col_heading level0 col4\" >25%</th>\n",
       "      <th id=\"T_e8d45_level0_col5\" class=\"col_heading level0 col5\" >50%</th>\n",
       "      <th id=\"T_e8d45_level0_col6\" class=\"col_heading level0 col6\" >75%</th>\n",
       "      <th id=\"T_e8d45_level0_col7\" class=\"col_heading level0 col7\" >max</th>\n",
       "    </tr>\n",
       "  </thead>\n",
       "  <tbody>\n",
       "    <tr>\n",
       "      <th id=\"T_e8d45_level0_row0\" class=\"row_heading level0 row0\" >User_ID</th>\n",
       "      <td id=\"T_e8d45_row0_col0\" class=\"data row0 col0\" >20000.000000</td>\n",
       "      <td id=\"T_e8d45_row0_col1\" class=\"data row0 col1\" >10000.500000</td>\n",
       "      <td id=\"T_e8d45_row0_col2\" class=\"data row0 col2\" >5773.647028</td>\n",
       "      <td id=\"T_e8d45_row0_col3\" class=\"data row0 col3\" >1.000000</td>\n",
       "      <td id=\"T_e8d45_row0_col4\" class=\"data row0 col4\" >5000.750000</td>\n",
       "      <td id=\"T_e8d45_row0_col5\" class=\"data row0 col5\" >10000.500000</td>\n",
       "      <td id=\"T_e8d45_row0_col6\" class=\"data row0 col6\" >15000.250000</td>\n",
       "      <td id=\"T_e8d45_row0_col7\" class=\"data row0 col7\" >20000.000000</td>\n",
       "    </tr>\n",
       "    <tr>\n",
       "      <th id=\"T_e8d45_level0_row1\" class=\"row_heading level0 row1\" >Clicks</th>\n",
       "      <td id=\"T_e8d45_row1_col0\" class=\"data row1 col0\" >20000.000000</td>\n",
       "      <td id=\"T_e8d45_row1_col1\" class=\"data row1 col1\" >9.513450</td>\n",
       "      <td id=\"T_e8d45_row1_col2\" class=\"data row1 col2\" >5.768603</td>\n",
       "      <td id=\"T_e8d45_row1_col3\" class=\"data row1 col3\" >0.000000</td>\n",
       "      <td id=\"T_e8d45_row1_col4\" class=\"data row1 col4\" >5.000000</td>\n",
       "      <td id=\"T_e8d45_row1_col5\" class=\"data row1 col5\" >10.000000</td>\n",
       "      <td id=\"T_e8d45_row1_col6\" class=\"data row1 col6\" >15.000000</td>\n",
       "      <td id=\"T_e8d45_row1_col7\" class=\"data row1 col7\" >19.000000</td>\n",
       "    </tr>\n",
       "    <tr>\n",
       "      <th id=\"T_e8d45_level0_row2\" class=\"row_heading level0 row2\" >Conversions</th>\n",
       "      <td id=\"T_e8d45_row2_col0\" class=\"data row2 col0\" >20000.000000</td>\n",
       "      <td id=\"T_e8d45_row2_col1\" class=\"data row2 col1\" >0.034600</td>\n",
       "      <td id=\"T_e8d45_row2_col2\" class=\"data row2 col2\" >0.182769</td>\n",
       "      <td id=\"T_e8d45_row2_col3\" class=\"data row2 col3\" >0.000000</td>\n",
       "      <td id=\"T_e8d45_row2_col4\" class=\"data row2 col4\" >0.000000</td>\n",
       "      <td id=\"T_e8d45_row2_col5\" class=\"data row2 col5\" >0.000000</td>\n",
       "      <td id=\"T_e8d45_row2_col6\" class=\"data row2 col6\" >0.000000</td>\n",
       "      <td id=\"T_e8d45_row2_col7\" class=\"data row2 col7\" >1.000000</td>\n",
       "    </tr>\n",
       "  </tbody>\n",
       "</table>\n"
      ],
      "text/plain": [
       "<pandas.io.formats.style.Styler at 0x19ba22f51b0>"
      ]
     },
     "execution_count": 11,
     "metadata": {},
     "output_type": "execute_result"
    }
   ],
   "source": [
    "#Estat desc\n",
    "df.describe().T.style.background_gradient(cmap=\"Blues\")"
   ]
  },
  {
   "cell_type": "code",
   "execution_count": 4,
   "id": "00f93705",
   "metadata": {},
   "outputs": [
    {
     "data": {
      "text/plain": [
       "(20000, 4)"
      ]
     },
     "execution_count": 4,
     "metadata": {},
     "output_type": "execute_result"
    }
   ],
   "source": [
    "# o tamanho da base \n",
    "df.shape"
   ]
  },
  {
   "cell_type": "code",
   "execution_count": 5,
   "id": "da1f8d4e",
   "metadata": {},
   "outputs": [
    {
     "data": {
      "text/plain": [
       "A    10000\n",
       "B    10000\n",
       "Name: Variant, dtype: int64"
      ]
     },
     "execution_count": 5,
     "metadata": {},
     "output_type": "execute_result"
    }
   ],
   "source": [
    "# O numero de visitantes por variante\n",
    "df[\"Variant\"].value_counts()"
   ]
  },
  {
   "cell_type": "code",
   "execution_count": 24,
   "id": "1f266d91",
   "metadata": {},
   "outputs": [
    {
     "data": {
      "text/html": [
       "<style type=\"text/css\">\n",
       "#T_c9bdb_row0_col0 {\n",
       "  background-color: #08306b;\n",
       "  color: #f1f1f1;\n",
       "}\n",
       "#T_c9bdb_row1_col0 {\n",
       "  background-color: #f7fbff;\n",
       "  color: #000000;\n",
       "}\n",
       "</style>\n",
       "<table id=\"T_c9bdb\">\n",
       "  <thead>\n",
       "    <tr>\n",
       "      <th class=\"blank level0\" >&nbsp;</th>\n",
       "      <th id=\"T_c9bdb_level0_col0\" class=\"col_heading level0 col0\" >sum</th>\n",
       "    </tr>\n",
       "    <tr>\n",
       "      <th class=\"index_name level0\" >Variant</th>\n",
       "      <th class=\"blank col0\" >&nbsp;</th>\n",
       "    </tr>\n",
       "  </thead>\n",
       "  <tbody>\n",
       "    <tr>\n",
       "      <th id=\"T_c9bdb_level0_row0\" class=\"row_heading level0 row0\" >A</th>\n",
       "      <td id=\"T_c9bdb_row0_col0\" class=\"data row0 col0\" >95172</td>\n",
       "    </tr>\n",
       "    <tr>\n",
       "      <th id=\"T_c9bdb_level0_row1\" class=\"row_heading level0 row1\" >B</th>\n",
       "      <td id=\"T_c9bdb_row1_col0\" class=\"data row1 col0\" >95097</td>\n",
       "    </tr>\n",
       "  </tbody>\n",
       "</table>\n"
      ],
      "text/plain": [
       "<pandas.io.formats.style.Styler at 0x19ba262f160>"
      ]
     },
     "execution_count": 24,
     "metadata": {},
     "output_type": "execute_result"
    }
   ],
   "source": [
    "# O numero de clicks por variante A-B\n",
    "df.groupby('Variant').Clicks.agg(['sum']).style.background_gradient(cmap=\"Blues\")"
   ]
  },
  {
   "cell_type": "code",
   "execution_count": 25,
   "id": "b1b46cde",
   "metadata": {},
   "outputs": [
    {
     "data": {
      "text/html": [
       "<style type=\"text/css\">\n",
       "#T_9a616_row0_col0 {\n",
       "  background-color: #f7fbff;\n",
       "  color: #000000;\n",
       "}\n",
       "#T_9a616_row1_col0 {\n",
       "  background-color: #08306b;\n",
       "  color: #f1f1f1;\n",
       "}\n",
       "</style>\n",
       "<table id=\"T_9a616\">\n",
       "  <thead>\n",
       "    <tr>\n",
       "      <th class=\"blank level0\" >&nbsp;</th>\n",
       "      <th id=\"T_9a616_level0_col0\" class=\"col_heading level0 col0\" >sum</th>\n",
       "    </tr>\n",
       "    <tr>\n",
       "      <th class=\"index_name level0\" >Variant</th>\n",
       "      <th class=\"blank col0\" >&nbsp;</th>\n",
       "    </tr>\n",
       "  </thead>\n",
       "  <tbody>\n",
       "    <tr>\n",
       "      <th id=\"T_9a616_level0_row0\" class=\"row_heading level0 row0\" >A</th>\n",
       "      <td id=\"T_9a616_row0_col0\" class=\"data row0 col0\" >270</td>\n",
       "    </tr>\n",
       "    <tr>\n",
       "      <th id=\"T_9a616_level0_row1\" class=\"row_heading level0 row1\" >B</th>\n",
       "      <td id=\"T_9a616_row1_col0\" class=\"data row1 col0\" >422</td>\n",
       "    </tr>\n",
       "  </tbody>\n",
       "</table>\n"
      ],
      "text/plain": [
       "<pandas.io.formats.style.Styler at 0x19ba24a20e0>"
      ]
     },
     "execution_count": 25,
     "metadata": {},
     "output_type": "execute_result"
    }
   ],
   "source": [
    "#Numero de conversao por variante\n",
    "df.groupby('Variant').Conversions.agg(['sum']).style.background_gradient(cmap=\"Blues\")"
   ]
  },
  {
   "cell_type": "markdown",
   "id": "e7b5de13",
   "metadata": {},
   "source": [
    "<h2>Pooled Estimates(estimativas combinadas)por cliques</h2>\n",
    "No contexto de testes A/B, o pooled estimate da taxa de conversão é usado para calcular a variância comum dos dois grupos sob a hipótese nula (H₀), que diz que ambos os grupos têm a mesma taxa de conversão."
   ]
  },
  {
   "cell_type": "code",
   "execution_count": 9,
   "id": "a4d08f1a",
   "metadata": {},
   "outputs": [
    {
     "name": "stdout",
     "output_type": "stream",
     "text": [
      "9.51345\n"
     ]
    }
   ],
   "source": [
    "#p= (Xcon + Xexp) / (Ncon + Nexp)\n",
    "#Pooled estimate por cliques\n",
    "\n",
    "p= (95172+95097) / 20000\n",
    "print (p)"
   ]
  },
  {
   "cell_type": "code",
   "execution_count": 48,
   "id": "b8debbd7",
   "metadata": {},
   "outputs": [
    {
     "name": "stdout",
     "output_type": "stream",
     "text": [
      "Taxas de conversão de Variante A: 0.027\n",
      "Taxas de conversão de Variante B: 0.0422\n",
      "conversão total combinada dos dois grupos: 0.0346\n"
     ]
    }
   ],
   "source": [
    "#Estimativas combinadas de A\n",
    "PA=(270/10000) \n",
    "print(\"Taxas de conversão de Variante A:\",PA)\n",
    "\n",
    "#\n",
    "#Estimativas combinadas de B\n",
    "PB=(422/10000) \n",
    "print(\"Taxas de conversão de Variante B:\",PB)\n",
    "\n",
    "#Pooled estimate da conversão:\n",
    "Ppooled=(270+422) / 20000\n",
    "print(\"conversão total combinada dos dois grupos:\",Ppooled)\n"
   ]
  },
  {
   "cell_type": "code",
   "execution_count": 8,
   "id": "e1147a6d",
   "metadata": {},
   "outputs": [
    {
     "name": "stdout",
     "output_type": "stream",
     "text": [
      "Variant\n",
      "A    0.0447\n",
      "B    0.0464\n",
      "Name: User_ID, dtype: float64\n"
     ]
    }
   ],
   "source": [
    "# cliques\n",
    "# Exemplo: contar visitantes únicos por grupo\n",
    "total_visitors = df.groupby('Variant')['User_ID'].nunique()\n",
    "\n",
    "# Contar visitantes únicos que clicaram pelo menos uma vez\n",
    "clickers = df[df['Clicks'] == 1].groupby('Variant')['User_ID'].nunique()\n",
    "\n",
    "# Calcular p para cada grupo\n",
    "conversion_rate = clickers / total_visitors\n",
    "\n",
    "print(conversion_rate)\n"
   ]
  },
  {
   "cell_type": "markdown",
   "id": "84fdf5db",
   "metadata": {},
   "source": [
    "<h2>Pooled variance(ou variância combinada)</h2>"
   ]
  },
  {
   "cell_type": "markdown",
   "id": "b7ed2f9c",
   "metadata": {},
   "source": [
    "<h2>Visualização de dados</h2>"
   ]
  },
  {
   "cell_type": "code",
   "execution_count": 16,
   "id": "f77f530d",
   "metadata": {},
   "outputs": [
    {
     "data": {
      "image/png": "[encoded data removed]",
      "text/plain": [
       "<Figure size 1000x600 with 1 Axes>"
      ]
     },
     "metadata": {},
     "output_type": "display_data"
    }
   ],
   "source": [
    "# Paleta de cores\n",
    "palette = {0: 'yellow', 1: 'green'}\n",
    "\n",
    "# Tamanho da figura\n",
    "plt.figure(figsize=(10, 6))\n",
    "\n",
    "# Gráfico de barras com contagem\n",
    "ax = sns.countplot(x='Variant', data=df, palette=palette, hue='Conversions')\n",
    "\n",
    "# Título do gráfico\n",
    "plt.title('Variant vs Conversions')\n",
    "\n",
    "# Calcular totais por grupo (para percentual)\n",
    "total_per_variant = df.groupby('Variant').size()\n",
    "\n",
    "# Adicionar anotações com percentual em cima de cada barra\n",
    "for p in ax.patches:\n",
    "    height = p.get_height()\n",
    "    variant = p.get_x() + p.get_width() / 2.0\n",
    "    # Obtem o grupo correspondente (0 ou 1)\n",
    "    variant_label = p.get_x() + p.get_width() / 2.0\n",
    "    variant_group = p.get_x()\n",
    "    # Determinar qual grupo (controle ou teste) pela posição\n",
    "    variant_index = int(round(p.get_x() + p.get_width() / 2.0))\n",
    "    \n",
    "    # Obter total de observações no grupo atual\n",
    "    total = total_per_variant[variant_index]\n",
    "    \n",
    "    # Calcular percentual\n",
    "    percent = height / total * 100\n",
    "    ax.text(p.get_x() + p.get_width() / 2.,\n",
    "            height + 5,\n",
    "            '{:1.1f}%'.format(percent),\n",
    "            ha=\"center\")\n",
    "\n",
    "plt.ylabel(\"Contagem\")\n",
    "plt.xlabel(\"Grupo (Variant)\")\n",
    "plt.legend(title=\"Conversions\", loc=\"upper right\")\n",
    "plt.tight_layout()\n",
    "plt.show()\n"
   ]
  },
  {
   "cell_type": "markdown",
   "id": "befa359f",
   "metadata": {},
   "source": [
    "<h2>Standard Erroe,Test Stat e Z-score</h2>"
   ]
  },
  {
   "cell_type": "code",
   "execution_count": 49,
   "id": "42ca530f",
   "metadata": {},
   "outputs": [
    {
     "name": "stdout",
     "output_type": "stream",
     "text": [
      "valor do erro padrão (SE - Standard Error) da proporção de conversão no variante A: 0.001621\n",
      "valor do erro padrão (SE - Standard Error) da proporção de conversão no variante B: 0.00201\n"
     ]
    }
   ],
   "source": [
    "#Calcular o SE para variante A e variante B\n",
    "varianteA_se = np.sqrt(PA * (1 - PA) / 10000).round(6)\n",
    "\n",
    "#SE para variante B\n",
    "varianteB_se = np.sqrt(PB * (1 - PB) / 10000).round(5)\n",
    "\n",
    "print(\"valor do erro padrão (SE - Standard Error) da proporção de conversão no variante A:\",varianteA_se)\n",
    "print(\"valor do erro padrão (SE - Standard Error) da proporção de conversão no variante B:\",varianteB_se)"
   ]
  },
  {
   "cell_type": "code",
   "execution_count": 50,
   "id": "f84855d2",
   "metadata": {},
   "outputs": [
    {
     "name": "stdout",
     "output_type": "stream",
     "text": [
      "SE da diferença entre dois grupos (controle e experimento) 0.0603\n"
     ]
    }
   ],
   "source": [
    "SE_ab= np.sqrt(varianteA_se + varianteB_se).round(4)\n",
    "print(\"SE da diferença entre dois grupos (controle e experimento)\",SE_ab)"
   ]
  },
  {
   "cell_type": "code",
   "execution_count": 64,
   "id": "0f9f78ef",
   "metadata": {},
   "outputs": [],
   "source": [
    "#( CRB - CRA ) / SEdifference\n",
    "#Z_score=(PB-PA)/SE_ab\n",
    "#print(Z_score)"
   ]
  },
  {
   "cell_type": "code",
   "execution_count": 65,
   "id": "954b8df8",
   "metadata": {},
   "outputs": [],
   "source": [
    "# Calcular as diferenças absolutas e relativas\n",
    "absolute_diff = PB - PA\n",
    "relative_diff = absolute_diff / PA"
   ]
  },
  {
   "cell_type": "code",
   "execution_count": 80,
   "id": "182d4b23",
   "metadata": {},
   "outputs": [
    {
     "name": "stdout",
     "output_type": "stream",
     "text": [
      "5.886460403795122\n"
     ]
    }
   ],
   "source": [
    "pooled_se = np.sqrt(varianteA_se**2 + varianteB_se**2)\n",
    "z_score = absolute_diff / pooled_se\n",
    "print(z_score)"
   ]
  },
  {
   "cell_type": "markdown",
   "id": "4d9fc3c6",
   "metadata": {},
   "source": [
    "<h2>P-values</h2>"
   ]
  },
  {
   "cell_type": "code",
   "execution_count": 78,
   "id": "621fb728",
   "metadata": {},
   "outputs": [
    {
     "name": "stdout",
     "output_type": "stream",
     "text": [
      "a diferença é considerada estatisticamente significativa.Rejeita a hipótese nula (H₀)\n"
     ]
    }
   ],
   "source": [
    "p_value = 2 * (1 - stats.norm.cdf(abs(z_score))).round(3)\n",
    "z_crítico  = stats.norm.ppf(1 - alfa/2)\n",
    "if p_value < alfa and PA < PB and z_score > z_crítico: \n",
    "    print(\"A diferença é considerada estatisticamente significativa.Rejeita a hipótese nula (H₀)\")\n",
    "else:\n",
    "    print(\"Manter hipótese nula (H₀)\")"
   ]
  },
  {
   "cell_type": "markdown",
   "id": "729e5187",
   "metadata": {},
   "source": [
    "<h2>Tomar a decisão sobre o lançamento do variante B</h2>\n",
    "A análise estatística indicou que a Variante B teve desempenho superior em relação à Variante A, com um valor de p abaixo do nível de significância de 5%, permitindo a rejeição da hipótese nula.\n",
    "\n",
    "Diante disso, recomenda-se prosseguir com a decisão sobre o lançamento da Variante B."
   ]
  },
  {
   "cell_type": "code",
   "execution_count": null,
   "id": "3d67cb4d",
   "metadata": {},
   "outputs": [],
   "source": []
  }
 ],
 "metadata": {
  "kernelspec": {
   "display_name": "Python 3 (ipykernel)",
   "language": "python",
   "name": "python3"
  },
  "language_info": {
   "codemirror_mode": {
    "name": "ipython",
    "version": 3
   },
   "file_extension": ".py",
   "mimetype": "text/x-python",
   "name": "python",
   "nbconvert_exporter": "python",
   "pygments_lexer": "ipython3",
   "version": "3.10.9"
  }
 },
 "nbformat": 4,
 "nbformat_minor": 5
}
